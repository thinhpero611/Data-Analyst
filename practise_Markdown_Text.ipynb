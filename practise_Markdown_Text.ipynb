{
 "cells": [
  {
   "cell_type": "code",
   "execution_count": 2,
   "metadata": {},
   "outputs": [],
   "source": [
    "import pandas as pd\n",
    "import numpy as np"
   ]
  },
  {
   "cell_type": "markdown",
   "metadata": {},
   "source": [
    "## Inline code with backticks\n",
    "\n",
    "```\n",
    "print('3 backticks or')\n",
    "print('indent 4 spaces')\n",
    "```\n",
    "\n",
    "    # code block\n",
    "    hold my beer!\n",
    "    print('Hello word!')"
   ]
  },
  {
   "cell_type": "markdown",
   "metadata": {},
   "source": [
    "$a=\\frac{b}{c}$\n",
    "\n",
    "***\n",
    "\n",
    "|Name|Phone Number|\n",
    "|:--:|:--:|\n",
    "|Thinh|0964621015|\n",
    "\n",
    "\n",
    "- thinh\n",
    "# Ky tu hy lap\n",
    "|Symbol|Script|\n",
    "|:---:|:---:|\n",
    "|$\\pi$|\\alpha|\n",
    "|$A$|A|\n",
    "|$\\beta$|\\beta|\n",
    "|$B$|B|\n",
    "|$\\gamma$|\\gamma|\n",
    "|$\\Gamma$|\\Gamma|\n",
    "$\\Pi$\n",
    "$\\phi$\n",
    "$\\Phi$\n",
    "$\\varphi$\n",
    "$\\theta$\n"
   ]
  },
  {
   "cell_type": "markdown",
   "metadata": {},
   "source": [
    "$\\infty$\n",
    "\n",
    "$\\equiv$\n",
    "$\\times$\n",
    "\n",
    "$k_n^2$ =\n",
    "$k_n+1$\n",
    "\n",
    "### Chinh hop\n",
    "$C = \\frac{n!}{k!(n-k!)}$\n",
    "\n",
    "### Matrix \n",
    "$\\binom{2}{6}$\n",
    "\n",
    "### Square Root\n",
    "$\\sqrt[n]{5}$\n",
    "\n",
    "    integral\n",
    "$\\int(x^2+2)$ + $\\int\\limits_a^b(2x+3)$\n",
    "\n",
    "### Dao Ham\n",
    "$\\lim_{dx\\to0}\\frac{f(x +dx)-f(x)}{dx} = f'(x)$\n",
    "\n",
    "### Pytago Equation\n",
    "$c =\\sqrt{a^2+b^2}$"
   ]
  },
  {
   "cell_type": "markdown",
   "metadata": {},
   "source": [
    "# Big title\n",
    "## Medium title\n",
    "### and more\n",
    "#### more\n",
    "##### more ....."
   ]
  },
  {
   "cell_type": "markdown",
   "metadata": {},
   "source": [
    "$Denta$"
   ]
  },
  {
   "cell_type": "code",
   "execution_count": 12,
   "metadata": {},
   "outputs": [
    {
     "name": "stdout",
     "output_type": "stream",
     "text": [
      "[[ 1  2  3  4  5  6]\n",
      " [ 7  8  9 10 11 12]\n",
      " [13 14 15 16 17 18]\n",
      " [19 20 21 22 23 24]]\n",
      "type of arr_a: int32\n",
      "(4, 6)\n",
      "a.size: 24\n",
      "a.itemsize: 4\n"
     ]
    }
   ],
   "source": [
    "a = [[1,2,3,4,5,6],\n",
    "     [7,8,9,10,11,12],\n",
    "     [13,14,15,16,17,18],\n",
    "     [19,20,21,22,23,24]]\n",
    "a = np.array(a)\n",
    "print(a)\n",
    "print('type of arr_a:', a.dtype)\n",
    "print(a.shape)\n",
    "print('a.size:',a.size)\n",
    "print('a.itemsize:', a.itemsize)"
   ]
  },
  {
   "cell_type": "code",
   "execution_count": 24,
   "metadata": {},
   "outputs": [],
   "source": [
    "a[:, 0::5] =0 \n",
    "a[0::3, :] = 0"
   ]
  },
  {
   "cell_type": "code",
   "execution_count": 25,
   "metadata": {},
   "outputs": [
    {
     "name": "stdout",
     "output_type": "stream",
     "text": [
      "[[ 0  0  0  0  0  0]\n",
      " [ 0  8  9 10 11  0]\n",
      " [ 0 14 15 16 17  0]\n",
      " [ 0  0  0  0  0  0]]\n"
     ]
    }
   ],
   "source": [
    "print(a)"
   ]
  },
  {
   "cell_type": "code",
   "execution_count": 26,
   "metadata": {},
   "outputs": [
    {
     "name": "stdout",
     "output_type": "stream",
     "text": [
      "[[ 1  2  3  4  5  6]\n",
      " [ 7  8  9 10 11 12]\n",
      " [13 14 15 16 17 18]\n",
      " [19 20 21 22 23 24]]\n"
     ]
    }
   ],
   "source": [
    "b = np.array([[1,2,3,4,5,6],\n",
    "     [7,8,9,10,11,12],\n",
    "     [13,14,15,16,17,18],\n",
    "     [19,20,21,22,23,24]])\n",
    "print(b)"
   ]
  },
  {
   "cell_type": "code",
   "execution_count": 29,
   "metadata": {},
   "outputs": [
    {
     "name": "stdout",
     "output_type": "stream",
     "text": [
      "[[[[ 1  2]\n",
      "   [ 3  4]]\n",
      "\n",
      "  [[ 5  6]\n",
      "   [ 7  8]]\n",
      "\n",
      "  [[ 9 10]\n",
      "   [11 12]]]\n",
      "\n",
      "\n",
      " [[[13 14]\n",
      "   [15 16]]\n",
      "\n",
      "  [[17 18]\n",
      "   [19 20]]\n",
      "\n",
      "  [[21 22]\n",
      "   [23 24]]]]\n"
     ]
    }
   ],
   "source": [
    "print(b.reshape(2,3,2,2)) # 4-demensional"
   ]
  },
  {
   "cell_type": "code",
   "execution_count": 36,
   "metadata": {},
   "outputs": [
    {
     "data": {
      "text/plain": [
       "array([6, 7, 8, 9])"
      ]
     },
     "execution_count": 36,
     "metadata": {},
     "output_type": "execute_result"
    }
   ],
   "source": [
    "c = b.copy()\n",
    "c = c[ (c>5)&(c<10)] \n",
    "c"
   ]
  },
  {
   "cell_type": "code",
   "execution_count": 37,
   "metadata": {},
   "outputs": [],
   "source": [
    "c = np.delete(c, [1,2])"
   ]
  },
  {
   "cell_type": "code",
   "execution_count": 38,
   "metadata": {},
   "outputs": [
    {
     "data": {
      "text/plain": [
       "array([6, 9])"
      ]
     },
     "execution_count": 38,
     "metadata": {},
     "output_type": "execute_result"
    }
   ],
   "source": [
    "c"
   ]
  },
  {
   "cell_type": "code",
   "execution_count": 39,
   "metadata": {},
   "outputs": [
    {
     "name": "stdout",
     "output_type": "stream",
     "text": [
      "[[ 1  2  3  4  5  6]\n",
      " [ 7  8  9 10 11 12]\n",
      " [13 14 15 16 17 18]\n",
      " [19 20 21 22 23 24]]\n",
      "[ 1  2  3  4  5  6  7  8  9 12 13 14 15 16 17 18 19 20 21 22 23 24]\n"
     ]
    }
   ],
   "source": [
    "d = b.copy()\n",
    "print(d)\n",
    "print(np.delete(d, d[1:2,2:4]))"
   ]
  },
  {
   "cell_type": "code",
   "execution_count": 46,
   "metadata": {},
   "outputs": [
    {
     "data": {
      "text/plain": [
       "2765620196496"
      ]
     },
     "execution_count": 46,
     "metadata": {},
     "output_type": "execute_result"
    }
   ],
   "source": [
    "\n",
    "id(b)"
   ]
  },
  {
   "cell_type": "code",
   "execution_count": 3,
   "metadata": {},
   "outputs": [
    {
     "data": {
      "text/plain": [
       "array([50, 23, 57, 45, 18, 73, 29,  8, 81, 88])"
      ]
     },
     "execution_count": 3,
     "metadata": {},
     "output_type": "execute_result"
    }
   ],
   "source": [
    "c = np.random.randint(2,100, 10)\n",
    "c"
   ]
  },
  {
   "cell_type": "code",
   "execution_count": 6,
   "metadata": {},
   "outputs": [
    {
     "data": {
      "text/plain": [
       "array([50, 57, 18, 29, 81])"
      ]
     },
     "execution_count": 6,
     "metadata": {},
     "output_type": "execute_result"
    }
   ],
   "source": [
    "c[[True, False]*8]"
   ]
  },
  {
   "cell_type": "code",
   "execution_count": null,
   "metadata": {},
   "outputs": [],
   "source": []
  }
 ],
 "metadata": {
  "kernelspec": {
   "display_name": "Python 3",
   "language": "python",
   "name": "python3"
  },
  "language_info": {
   "codemirror_mode": {
    "name": "ipython",
    "version": 3
   },
   "file_extension": ".py",
   "mimetype": "text/x-python",
   "name": "python",
   "nbconvert_exporter": "python",
   "pygments_lexer": "ipython3",
   "version": "3.6.8"
  }
 },
 "nbformat": 4,
 "nbformat_minor": 4
}
