{
 "cells": [
  {
   "cell_type": "markdown",
   "id": "dying-minneapolis",
   "metadata": {},
   "source": [
    "*formula to calculate Mean*\n",
    "\n",
    "$ X = \\frac{1}{N} \\sum_{i=1}^n x_i$\n",
    "### formula to estimate population standard deviation\n",
    "\n",
    "$\\sigma = \\sqrt{\\frac{1}{N}\\sum_{i=1}^{n}(x_i-X)^2}$\n",
    "\n",
    "### variance\n",
    "\n",
    "$\\sigma^2 = \\frac{1}{N}\\sum_{i=1}^n(x_i-X)^2$"
   ]
  },
  {
   "cell_type": "code",
   "execution_count": null,
   "id": "cultural-executive",
   "metadata": {},
   "outputs": [],
   "source": []
  }
 ],
 "metadata": {
  "kernelspec": {
   "display_name": "Python 3",
   "language": "python",
   "name": "python3"
  },
  "language_info": {
   "codemirror_mode": {
    "name": "ipython",
    "version": 3
   },
   "file_extension": ".py",
   "mimetype": "text/x-python",
   "name": "python",
   "nbconvert_exporter": "python",
   "pygments_lexer": "ipython3",
   "version": "3.6.8"
  }
 },
 "nbformat": 4,
 "nbformat_minor": 5
}
